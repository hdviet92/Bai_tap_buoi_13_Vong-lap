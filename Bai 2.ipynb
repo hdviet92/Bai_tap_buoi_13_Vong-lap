{
 "cells": [
  {
   "cell_type": "code",
   "execution_count": 1,
   "id": "d0a9eed7",
   "metadata": {},
   "outputs": [
    {
     "name": "stdout",
     "output_type": "stream",
     "text": [
      "Cách 1: 1 tờ 2 nghìn, 1 tờ 3 nghìn và 19 tờ 5 nghìn: 1*2.000 + 1*3.000 + 19*5.000 = 100.000\n",
      "\n",
      "Cách 2: 2 tờ 2 nghìn, 2 tờ 3 nghìn và 18 tờ 5 nghìn: 2*2.000 + 2*3.000 + 18*5.000 = 100.000\n",
      "\n",
      "Cách 3: 3 tờ 2 nghìn, 3 tờ 3 nghìn và 17 tờ 5 nghìn: 3*2.000 + 3*3.000 + 17*5.000 = 100.000\n",
      "\n",
      "Cách 4: 4 tờ 2 nghìn, 4 tờ 3 nghìn và 16 tờ 5 nghìn: 4*2.000 + 4*3.000 + 16*5.000 = 100.000\n",
      "\n",
      "Cách 5: 5 tờ 2 nghìn, 5 tờ 3 nghìn và 15 tờ 5 nghìn: 5*2.000 + 5*3.000 + 15*5.000 = 100.000\n",
      "\n",
      "Cách 6: 6 tờ 2 nghìn, 6 tờ 3 nghìn và 14 tờ 5 nghìn: 6*2.000 + 6*3.000 + 14*5.000 = 100.000\n",
      "\n",
      "Cách 7: 7 tờ 2 nghìn, 7 tờ 3 nghìn và 13 tờ 5 nghìn: 7*2.000 + 7*3.000 + 13*5.000 = 100.000\n",
      "\n",
      "Cách 8: 8 tờ 2 nghìn, 8 tờ 3 nghìn và 12 tờ 5 nghìn: 8*2.000 + 8*3.000 + 12*5.000 = 100.000\n",
      "\n",
      "Cách 9: 9 tờ 2 nghìn, 9 tờ 3 nghìn và 11 tờ 5 nghìn: 9*2.000 + 9*3.000 + 11*5.000 = 100.000\n",
      "\n",
      "Cách 10: 10 tờ 2 nghìn, 10 tờ 3 nghìn và 10 tờ 5 nghìn: 10*2.000 + 10*3.000 + 10*5.000 = 100.000\n",
      "\n",
      "Cách 11: 11 tờ 2 nghìn, 11 tờ 3 nghìn và 9 tờ 5 nghìn: 11*2.000 + 11*3.000 + 9*5.000 = 100.000\n",
      "\n",
      "Cách 12: 12 tờ 2 nghìn, 12 tờ 3 nghìn và 8 tờ 5 nghìn: 12*2.000 + 12*3.000 + 8*5.000 = 100.000\n",
      "\n",
      "Cách 13: 13 tờ 2 nghìn, 13 tờ 3 nghìn và 7 tờ 5 nghìn: 13*2.000 + 13*3.000 + 7*5.000 = 100.000\n",
      "\n",
      "Cách 14: 14 tờ 2 nghìn, 14 tờ 3 nghìn và 6 tờ 5 nghìn: 14*2.000 + 14*3.000 + 6*5.000 = 100.000\n",
      "\n",
      "Cách 15: 15 tờ 2 nghìn, 15 tờ 3 nghìn và 5 tờ 5 nghìn: 15*2.000 + 15*3.000 + 5*5.000 = 100.000\n",
      "\n",
      "Cách 16: 16 tờ 2 nghìn, 16 tờ 3 nghìn và 4 tờ 5 nghìn: 16*2.000 + 16*3.000 + 4*5.000 = 100.000\n",
      "\n",
      "Cách 17: 17 tờ 2 nghìn, 17 tờ 3 nghìn và 3 tờ 5 nghìn: 17*2.000 + 17*3.000 + 3*5.000 = 100.000\n",
      "\n",
      "Cách 18: 18 tờ 2 nghìn, 18 tờ 3 nghìn và 2 tờ 5 nghìn: 18*2.000 + 18*3.000 + 2*5.000 = 100.000\n",
      "\n",
      "Cách 19: 19 tờ 2 nghìn, 19 tờ 3 nghìn và 1 tờ 5 nghìn: 19*2.000 + 19*3.000 + 1*5.000 = 100.000\n",
      "\n"
     ]
    }
   ],
   "source": [
    "n = 20\n",
    "step2 = 0\n",
    "step5 = n\n",
    "\n",
    "for i in range (1,n):\n",
    "    s = (2+3)*i + (n-i)*5\n",
    "    step2 += 1\n",
    "    step5 -= 1\n",
    "    \n",
    "    print('Cách {step2}: {step2} tờ 2 nghìn, {step2} tờ 3 nghìn và {step5} tờ 5 nghìn: {step2}*2.000 + {step2}*3.000 + {step5}*5.000 = {s}.000' .format(step2=step2, step5=step5, s=s))\n",
    "    print(end='\\n')"
   ]
  }
 ],
 "metadata": {
  "kernelspec": {
   "display_name": "Python 3 (ipykernel)",
   "language": "python",
   "name": "python3"
  },
  "language_info": {
   "codemirror_mode": {
    "name": "ipython",
    "version": 3
   },
   "file_extension": ".py",
   "mimetype": "text/x-python",
   "name": "python",
   "nbconvert_exporter": "python",
   "pygments_lexer": "ipython3",
   "version": "3.9.7"
  }
 },
 "nbformat": 4,
 "nbformat_minor": 5
}
