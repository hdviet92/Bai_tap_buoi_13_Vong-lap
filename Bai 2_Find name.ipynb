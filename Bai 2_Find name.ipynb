{
 "cells": [
  {
   "cell_type": "code",
   "execution_count": 1,
   "id": "98b12efc",
   "metadata": {},
   "outputs": [
    {
     "name": "stdout",
     "output_type": "stream",
     "text": [
      "find: huynhducvietaeeeee\n"
     ]
    }
   ],
   "source": [
    "fullname = 'HUỲNH ĐỨC VIỆT ẮEEEEE'.split()\n",
    "a = 'áàãảạắằẵẳặấầẫẩậ'\n",
    "d = 'đ'\n",
    "e = 'éèẽẻẹếềễểệ'\n",
    "i = 'íìĩỉị'\n",
    "o = 'óòõỏọồốỗổộờớỡởợ'\n",
    "u = 'úùũủụứừữửự'\n",
    "y = 'ýỳỹỷỵ'\n",
    "\n",
    "fix = ''\n",
    "for j in fullname:\n",
    "    if j != '':\n",
    "        fix += j[0:].lower()\n",
    "for j in range (len(fix)):\n",
    "    if fix[j] in a:\n",
    "        fix = fix.replace(fix[j],'a')\n",
    "    elif fix[j] in d:\n",
    "        fix = fix.replace(fix[j],'d')\n",
    "    elif fix[j] in e:\n",
    "        fix = fix.replace(fix[j],'e')\n",
    "    elif fix[j] in i:\n",
    "        fix = fix.replace(fix[j],'i')\n",
    "    elif fix[j] in o:\n",
    "        fix = fix.replace(fix[j],'o')\n",
    "    elif fix[j] in u:\n",
    "        fix = fix.replace(fix[j],'u')\n",
    "    elif fix[j] in y:\n",
    "        fix = fix.replace(fix[j],'y')\n",
    "for j in fullname:\n",
    "    if j != '':\n",
    "        fix += j[0:].lower()\n",
    "        \n",
    "print('find:',fix)\n"
   ]
  }
 ],
 "metadata": {
  "kernelspec": {
   "display_name": "Python 3 (ipykernel)",
   "language": "python",
   "name": "python3"
  },
  "language_info": {
   "codemirror_mode": {
    "name": "ipython",
    "version": 3
   },
   "file_extension": ".py",
   "mimetype": "text/x-python",
   "name": "python",
   "nbconvert_exporter": "python",
   "pygments_lexer": "ipython3",
   "version": "3.9.7"
  }
 },
 "nbformat": 4,
 "nbformat_minor": 5
}
