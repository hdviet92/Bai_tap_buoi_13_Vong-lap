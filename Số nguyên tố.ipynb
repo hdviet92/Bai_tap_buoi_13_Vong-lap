{
 "cells": [
  {
   "cell_type": "code",
   "execution_count": 1,
   "id": "b23b8336",
   "metadata": {},
   "outputs": [
    {
     "name": "stdout",
     "output_type": "stream",
     "text": [
      "Nhập một số tự nhiên: 10\n",
      "no\n"
     ]
    }
   ],
   "source": [
    "# số nguyên tố\n",
    "\n",
    "n = int(input('Nhập một số tự nhiên: '))\n",
    "nt = True\n",
    "for i in range (2, n//2):\n",
    "    if n%i == 0:\n",
    "        nt = False\n",
    "        break\n",
    "if nt:\n",
    "    print('yes')\n",
    "else:\n",
    "    print('no')\n",
    "    "
   ]
  }
 ],
 "metadata": {
  "kernelspec": {
   "display_name": "Python 3 (ipykernel)",
   "language": "python",
   "name": "python3"
  },
  "language_info": {
   "codemirror_mode": {
    "name": "ipython",
    "version": 3
   },
   "file_extension": ".py",
   "mimetype": "text/x-python",
   "name": "python",
   "nbconvert_exporter": "python",
   "pygments_lexer": "ipython3",
   "version": "3.9.7"
  }
 },
 "nbformat": 4,
 "nbformat_minor": 5
}
