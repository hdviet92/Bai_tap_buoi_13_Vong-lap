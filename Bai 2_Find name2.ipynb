{
 "cells": [
  {
   "cell_type": "code",
   "execution_count": 1,
   "id": "98b12efc",
   "metadata": {},
   "outputs": [
    {
     "name": "stdout",
     "output_type": "stream",
     "text": [
      "Find: Huỳnh ĐỨc Việt ế sấp mặt ùi thèm nhậu quá chị em ơi\n",
      "huynh duc viet e sap mat ui them nhau qua chi em oi\n"
     ]
    }
   ],
   "source": [
    "fullname = input('Find: ').lower()\n",
    "a = 'áàãảạăắằẵẳặâấầẫẩậ'\n",
    "d = 'đ'\n",
    "e = 'éèẽẻẹêếềễểệ'\n",
    "i = 'íìĩỉị'\n",
    "o = 'óòõỏọôồốỗổộơờớỡởợ'\n",
    "u = 'úùũủụưứừữửự'\n",
    "y = 'ýỳỹỷỵ'\n",
    "find = ''\n",
    "\n",
    "for j in fullname:\n",
    "\n",
    "    if j in a:\n",
    "        j = 'a'\n",
    "    elif j in d:\n",
    "        j = 'd'\n",
    "    elif j in e:\n",
    "        j = 'e'\n",
    "    elif j in i:\n",
    "        j = 'i'\n",
    "    elif j in o:\n",
    "        j = 'o'\n",
    "    elif j in u:\n",
    "        j = 'u'\n",
    "    elif j in y:\n",
    "        j = 'y'\n",
    "    find += j\n",
    "print(find)\n"
   ]
  }
 ],
 "metadata": {
  "kernelspec": {
   "display_name": "Python 3 (ipykernel)",
   "language": "python",
   "name": "python3"
  },
  "language_info": {
   "codemirror_mode": {
    "name": "ipython",
    "version": 3
   },
   "file_extension": ".py",
   "mimetype": "text/x-python",
   "name": "python",
   "nbconvert_exporter": "python",
   "pygments_lexer": "ipython3",
   "version": "3.9.7"
  }
 },
 "nbformat": 4,
 "nbformat_minor": 5
}
